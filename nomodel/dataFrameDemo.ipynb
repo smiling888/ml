{
 "cells": [
  {
   "cell_type": "code",
   "execution_count": 2,
   "metadata": {
    "collapsed": true
   },
   "outputs": [],
   "source": [
    "# apply：应用在DataFrame的行或列中，也可以应用到单独一个Series的每个元素中\n",
    "# map：应用在单独一个Series的每个元素中\n",
    "# applymap：应用在DataFrame的每个元素中\n",
    "import pandas as pd\n",
    "import numpy as np"
   ]
  },
  {
   "cell_type": "code",
   "execution_count": 3,
   "outputs": [
    {
     "name": "stdout",
     "output_type": "stream",
     "text": [
      "    A   B   C\n",
      "a  15  19  12\n",
      "b   6  12  14\n",
      "c  16   2   8\n",
      "d   1  10   2\n",
      "<class 'pandas.core.frame.DataFrame'>\n"
     ]
    }
   ],
   "source": [
    "# 创建dataFrame\n",
    "df=pd.DataFrame(np.random.randint(0,20,(4,3)),columns=list(\"ABC\"),index=list(\"abcd\"))\n",
    "print(df)\n",
    "print(type(df))"
   ],
   "metadata": {
    "collapsed": false,
    "pycharm": {
     "name": "#%%\n"
    }
   }
  },
  {
   "cell_type": "code",
   "execution_count": 8,
   "outputs": [],
   "source": [
    "# apply demo\n",
    "# 第一个参数是函数\n",
    "df.apply(np.ptp,axis=0)\n",
    "#\n",
    "# 应用到列\n",
    "#将列中每个值转为浮点数\n",
    "#df[\"A\"].apply(float)\n",
    "df.A = df.A.apply(lambda x:x*2)\n",
    "\n",
    "df2=df.copy()\n",
    "# df2.A = df2.A.apply(lambda x:x*2)\n",
    "df[\"AMore4\"]=df2.A.apply(lambda x: True if x>4 else False)\n",
    "print(df2)"
   ],
   "metadata": {
    "collapsed": false,
    "pycharm": {
     "name": "#%%\n"
    }
   }
  },
  {
   "cell_type": "code",
   "execution_count": 5,
   "outputs": [
    {
     "data": {
      "text/plain": "a    15\nb     6\nc    16\nd     1\nName: A, dtype: int64"
     },
     "execution_count": 5,
     "metadata": {},
     "output_type": "execute_result"
    }
   ],
   "source": [
    "df.A"
   ],
   "metadata": {
    "collapsed": false,
    "pycharm": {
     "name": "#%%查看方法\n"
    }
   }
  },
  {
   "cell_type": "code",
   "execution_count": 14,
   "outputs": [
    {
     "name": "stdout",
     "output_type": "stream",
     "text": [
      "<class 'pandas.core.frame.DataFrame'>\n",
      "Index: 4 entries, a to d\n",
      "Data columns (total 4 columns):\n",
      " #   Column  Non-Null Count  Dtype\n",
      "---  ------  --------------  -----\n",
      " 0   A       4 non-null      int64\n",
      " 1   B       4 non-null      int64\n",
      " 2   C       4 non-null      int64\n",
      " 3   AMore4  4 non-null      bool \n",
      "dtypes: bool(1), int64(3)\n",
      "memory usage: 292.0+ bytes\n"
     ]
    }
   ],
   "source": [
    "# loc，即index locate 用index索引进行定位，所以参数是整型，如：df.iloc[10:20, 3:5]\n",
    "# loc，则可以使用column名和index名进行定位，如：\n",
    "df2=df.copy()\n",
    "# df2.A = df2.A.apply(lambda x:x*2)\n",
    "# 两个箱体方法\n",
    "df2[\"AMore4\"]=df2.A.apply(lambda x: True if x>4 else False)\n",
    "\n",
    "df.info()"
   ],
   "metadata": {
    "collapsed": false,
    "pycharm": {
     "name": "#%%\n"
    }
   }
  },
  {
   "cell_type": "code",
   "execution_count": 16,
   "outputs": [
    {
     "name": "stdout",
     "output_type": "stream",
     "text": [
      "       A      B      C  AMore4\n",
      "a   True   True   True   False\n",
      "b   True   True   True   False\n",
      "c   True  False  False   False\n",
      "d  False  False  False   False\n"
     ]
    }
   ],
   "source": [
    "# applymap demo\n",
    "df3=df.applymap(lambda v: True if v>10 else False)\n",
    "print((df3))"
   ],
   "metadata": {
    "collapsed": false,
    "pycharm": {
     "name": "#%%\n"
    }
   }
  },
  {
   "cell_type": "code",
   "execution_count": 21,
   "outputs": [],
   "source": [
    "#列操作\n",
    "# 删除列\n",
    "df3=df.applymap(lambda v: True if v>10 else False)\n",
    "df3=df3.drop(\"AMore4\",axis=1)\n",
    "# 删除行\n",
    "df3=df3.drop(\"a\",axis=0)"
   ],
   "metadata": {
    "collapsed": false,
    "pycharm": {
     "name": "#%%\n"
    }
   }
  }
 ],
 "metadata": {
  "kernelspec": {
   "display_name": "Python 3",
   "language": "python",
   "name": "python3"
  },
  "language_info": {
   "codemirror_mode": {
    "name": "ipython",
    "version": 2
   },
   "file_extension": ".py",
   "mimetype": "text/x-python",
   "name": "python",
   "nbconvert_exporter": "python",
   "pygments_lexer": "ipython2",
   "version": "2.7.6"
  }
 },
 "nbformat": 4,
 "nbformat_minor": 0
}