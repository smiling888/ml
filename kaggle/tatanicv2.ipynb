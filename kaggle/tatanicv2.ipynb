{
 "cells": [
  {
   "cell_type": "code",
   "execution_count": 1,
   "outputs": [],
   "source": [
    "#参考 https://www.jianshu.com/p/a8d75f06194b\n",
    "%matplotlib inline\n",
    "import pandas as pd\n",
    "import numpy as np\n",
    "from sklearn.feature_selection import SelectKBest, f_classif\n",
    "import matplotlib.pyplot as plt\n",
    "from sklearn.linear_model import LinearRegression\n",
    "from sklearn.model_selection import KFold\n",
    "\n",
    "import warnings\n",
    "warnings.filterwarnings('ignore')"
   ],
   "metadata": {
    "collapsed": false,
    "pycharm": {
     "name": "#%%\n"
    }
   }
  },
  {
   "cell_type": "code",
   "execution_count": 2,
   "outputs": [],
   "source": [
    "#一、加载数据\n",
    "train = pd.read_csv(r'../dataset/tatanic/train.csv')\n",
    "test = pd.read_csv(r'../dataset/tatanic/test.csv')\n",
    "#all_data = pd.concat([train, test], ignore_index=True)"
   ],
   "metadata": {
    "collapsed": false,
    "pycharm": {
     "name": "#%%\n"
    }
   }
  },
  {
   "cell_type": "code",
   "execution_count": 20,
   "outputs": [],
   "source": [
    "# 魔法指令 删除变量\n",
    "%xdel all_data"
   ],
   "metadata": {
    "collapsed": false,
    "pycharm": {
     "name": "#%%\n"
    }
   }
  },
  {
   "cell_type": "code",
   "execution_count": 32,
   "outputs": [
    {
     "name": "stdout",
     "output_type": "stream",
     "text": [
      "   PassengerId  Survived  Pclass(客舱等级，较为重要)  \\\n",
      "0            1         0                  3   \n",
      "1            2         1                  1   \n",
      "2            3         1                  3   \n",
      "3            4         1                  1   \n",
      "4            5         0                  3   \n",
      "\n",
      "                                                Name     Sex   Age  \\\n",
      "0                            Braund, Mr. Owen Harris    male  22.0   \n",
      "1  Cumings, Mrs. John Bradley (Florence Briggs Th...  female  38.0   \n",
      "2                             Heikkinen, Miss. Laina  female  26.0   \n",
      "3       Futrelle, Mrs. Jacques Heath (Lily May Peel)  female  35.0   \n",
      "4                           Allen, Mr. William Henry    male  35.0   \n",
      "\n",
      "   SibSp(堂兄弟妹个数)  Parch(父母与小孩个数)       Ticket(票编号)  Fare(票价) Cabin(客舱编号)  \\\n",
      "0              1               0         A/5 21171    7.2500         NaN   \n",
      "1              1               0          PC 17599   71.2833         C85   \n",
      "2              0               0  STON/O2. 3101282    7.9250         NaN   \n",
      "3              1               0            113803   53.1000        C123   \n",
      "4              0               0            373450    8.0500         NaN   \n",
      "\n",
      "  Embarked(上船的港口编号)  \n",
      "0                 S  \n",
      "1                 C  \n",
      "2                 S  \n",
      "3                 S  \n",
      "4                 S  \n",
      "       PassengerId    Survived  Pclass(客舱等级，较为重要)         Age  SibSp(堂兄弟妹个数)  \\\n",
      "count   891.000000  891.000000         891.000000  714.000000     891.000000   \n",
      "mean    446.000000    0.383838           2.308642   29.699118       0.523008   \n",
      "std     257.353842    0.486592           0.836071   14.526497       1.102743   \n",
      "min       1.000000    0.000000           1.000000    0.420000       0.000000   \n",
      "25%     223.500000    0.000000           2.000000   20.125000       0.000000   \n",
      "50%     446.000000    0.000000           3.000000   28.000000       0.000000   \n",
      "75%     668.500000    1.000000           3.000000   38.000000       1.000000   \n",
      "max     891.000000    1.000000           3.000000   80.000000       8.000000   \n",
      "\n",
      "       Parch(父母与小孩个数)    Fare(票价)  \n",
      "count      891.000000  891.000000  \n",
      "mean         0.381594   32.204208  \n",
      "std          0.806057   49.693429  \n",
      "min          0.000000    0.000000  \n",
      "25%          0.000000    7.910400  \n",
      "50%          0.000000   14.454200  \n",
      "75%          0.000000   31.000000  \n",
      "max          6.000000  512.329200  \n",
      "<class 'pandas.core.frame.DataFrame'>\n",
      "RangeIndex: 891 entries, 0 to 890\n",
      "Data columns (total 12 columns):\n",
      " #   Column             Non-Null Count  Dtype  \n",
      "---  ------             --------------  -----  \n",
      " 0   PassengerId        891 non-null    int64  \n",
      " 1   Survived           891 non-null    int64  \n",
      " 2   Pclass(客舱等级，较为重要)  891 non-null    int64  \n",
      " 3   Name               891 non-null    object \n",
      " 4   Sex                891 non-null    object \n",
      " 5   Age                714 non-null    float64\n",
      " 6   SibSp(堂兄弟妹个数)      891 non-null    int64  \n",
      " 7   Parch(父母与小孩个数)     891 non-null    int64  \n",
      " 8   Ticket(票编号)        891 non-null    object \n",
      " 9   Fare(票价)           891 non-null    float64\n",
      " 10  Cabin(客舱编号)        204 non-null    object \n",
      " 11  Embarked(上船的港口编号)  889 non-null    object \n",
      "dtypes: float64(2), int64(5), object(5)\n",
      "memory usage: 83.7+ KB\n",
      "None\n",
      "24.00    30\n",
      "22.00    27\n",
      "18.00    26\n",
      "19.00    25\n",
      "30.00    25\n",
      "         ..\n",
      "55.50     1\n",
      "70.50     1\n",
      "66.00     1\n",
      "23.50     1\n",
      "0.42      1\n",
      "Name: Age, Length: 88, dtype: int64\n"
     ]
    }
   ],
   "source": [
    "#二、 查看数据、数据类型\n",
    "pd.set_option('display.max_columns', None) # 展示所有列\n",
    "# head 默认展示5行\n",
    "print(train.head())\n",
    "#数据描述，以列为单位，统计数量:平均值，最大值等\n",
    "print(train.describe())\n",
    "# 数据信息，类似表描述，占用空间大小\n",
    "#数据行数是891，而 Age只有714, 列有的信息是空的\n",
    "print(train.info())\n",
    "# 统计Age值每个值数量\n",
    "print(train[\"Age\"].value_counts())\n",
    "# 数据描述---\n",
    "#数据维度\n",
    "print(train.shape)\n",
    "#数据类型\n",
    "##print(train.dtypes.sort_values())\n",
    "#相同数据\n",
    "print(train.select_dtypes(include='int64').head())\n",
    "#统计缺失的值\n",
    "train.isnull().sum()[lambda x: x>0]"
   ],
   "metadata": {
    "collapsed": false,
    "pycharm": {
     "name": "#%%\n"
    }
   }
  },
  {
   "cell_type": "code",
   "execution_count": 5,
   "outputs": [],
   "source": [
    "#-----------三、数据清洗-------\n",
    "drop_features=['PassengerId']#,'Survived'\n",
    "#3.1 删除无用的列  (axis=1 表示列 0表示行)\n",
    "train_after_drop=train.drop(drop_features,axis=1)\n",
    "train_after_drop=train_after_drop.rename(columns={u'Pclass(客舱等级，较为重要)':'Pclass'})\n",
    "train_after_drop=train_after_drop.rename(columns={u'SibSp(堂兄弟妹个数)':'SibSp'})\n",
    "train_after_drop=train_after_drop.rename(columns={u'Parch(父母与小孩个数)':'Parch'})\n",
    "train_after_drop=train_after_drop.rename(columns={u'Ticket(票编号)':'Ticket'})\n",
    "train_after_drop=train_after_drop.rename(columns={u'Fare(票价)':'Fare'})\n",
    "train_after_drop=train_after_drop.rename(columns={u'Cabin(客舱编号)':'Cabin'})\n",
    "train_after_drop=train_after_drop.rename(columns={u'Embarked(上船的港口编号)':'Embarked'})"
   ],
   "metadata": {
    "collapsed": false,
    "pycharm": {
     "name": "#%%\n"
    }
   }
  },
  {
   "cell_type": "code",
   "execution_count": 12,
   "outputs": [
    {
     "name": "stdout",
     "output_type": "stream",
     "text": [
      "Mr              517\n",
      "Miss            182\n",
      "Mrs             125\n",
      "Master           40\n",
      "Dr                7\n",
      "Rev               6\n",
      "Mlle              2\n",
      "Major             2\n",
      "Col               2\n",
      "Mme               1\n",
      "Capt              1\n",
      "Lady              1\n",
      "the Countess      1\n",
      "Don               1\n",
      "Ms                1\n",
      "Sir               1\n",
      "Jonkheer          1\n",
      "Name: Title, dtype: int64\n",
      "Title\n",
      "Master     3.5\n",
      "Miss      21.0\n",
      "Mr        30.0\n",
      "Mrs       35.0\n",
      "Rare      44.5\n",
      "Name: Age, dtype: float64\n"
     ]
    }
   ],
   "source": [
    "# age+name的称呼，分成几类\n",
    "# 寻找隐藏特征- age分类\n",
    "## 名称带Mr, Mrs,Miss\n",
    "train_after_drop['Title'] = train_after_drop[\"Name\"].apply(lambda name: name.split(',')[1].split('.')[0].strip())\n",
    "# value_counts函数用于统计dataframe或series中不同数或字符串出现的次数\n",
    "print(train_after_drop.Title.value_counts())\n",
    "List=train_after_drop.Title.value_counts().index[4:].tolist()\n",
    "mapping={}\n",
    "for s in List:\n",
    "    mapping[s]='Rare'\n",
    "train_after_drop['Title']=train_after_drop['Title'].map(lambda x: mapping[x] if x in mapping else x)\n",
    "# 处理缺失值：丢弃特征确实过多、不缺确实值\n",
    "## 根据已有数据(Mr,Mrs,Miss)，补全缺失数据。\n",
    "grouped=train_after_drop.groupby(['Title'])\n",
    "median=grouped.Age.median()\n",
    "print(median)\n",
    "def newage (cols):\n",
    "    age=cols[0]\n",
    "    title=cols[1]\n",
    "    if pd.isnull(age):\n",
    "        return median[title]\n",
    "    return age\n",
    "train_after_drop.Age=train_after_drop[['Age','Title']].apply(newage,axis=1)"
   ],
   "metadata": {
    "collapsed": false,
    "pycharm": {
     "name": "#%%\n"
    }
   }
  },
  {
   "cell_type": "code",
   "execution_count": 6,
   "outputs": [
    {
     "name": "stdout",
     "output_type": "stream",
     "text": [
      "<class 'pandas.core.frame.DataFrame'>\n",
      "RangeIndex: 891 entries, 0 to 890\n",
      "Data columns (total 11 columns):\n",
      " #   Column    Non-Null Count  Dtype  \n",
      "---  ------    --------------  -----  \n",
      " 0   Survived  891 non-null    int64  \n",
      " 1   Pclass    891 non-null    int64  \n",
      " 2   Name      891 non-null    object \n",
      " 3   Sex       891 non-null    object \n",
      " 4   Age       714 non-null    float64\n",
      " 5   SibSp     891 non-null    int64  \n",
      " 6   Parch     891 non-null    int64  \n",
      " 7   Ticket    891 non-null    object \n",
      " 8   Fare      891 non-null    float64\n",
      " 9   Cabin     204 non-null    object \n",
      " 10  Embarked  889 non-null    object \n",
      "dtypes: float64(2), int64(4), object(5)\n",
      "memory usage: 76.7+ KB\n"
     ]
    }
   ],
   "source": [
    "#转换行吧\n",
    "#loc根据属性定位，包含条件时，选择满足条件的Series\n",
    "train_after_drop.loc[train_after_drop['Sex'] == 'male', 'Sex'] = 0\n",
    "train_after_drop.loc[train_after_drop['Sex'] == 'female', 'Sex'] = 1\n",
    "train_after_drop.info()"
   ],
   "metadata": {
    "collapsed": false,
    "pycharm": {
     "name": "#%%\n"
    }
   }
  },
  {
   "cell_type": "code",
   "execution_count": 7,
   "outputs": [],
   "source": [
    "#Embarked(上船的港口编号)\n",
    "train_after_drop['Embarked'] = train_after_drop['Embarked'].fillna('S')\n",
    "train_after_drop.loc[train_after_drop['Embarked'] == 'S', 'Embarked'] = 0\n",
    "train_after_drop.loc[train_after_drop['Embarked'] == 'C', 'Embarked'] = 1\n",
    "train_after_drop.loc[train_after_drop['Embarked'] == 'Q', 'Embarked'] = 2\n",
    "#titanic['has_Cabin'].loc[~titanic.Cabin.isnull()]=1\n",
    "#titanic['has_Cabin'].loc[titanic.Cabin.isnull()]=0\n"
   ],
   "metadata": {
    "collapsed": false,
    "pycharm": {
     "name": "#%%\n"
    }
   }
  },
  {
   "cell_type": "code",
   "execution_count": 8,
   "outputs": [
    {
     "data": {
      "text/plain": "   Survived  Pclass                                               Name Sex  \\\n0         0       3                            Braund, Mr. Owen Harris   0   \n1         1       1  Cumings, Mrs. John Bradley (Florence Briggs Th...   1   \n2         1       3                             Heikkinen, Miss. Laina   1   \n3         1       1       Futrelle, Mrs. Jacques Heath (Lily May Peel)   1   \n4         0       3                           Allen, Mr. William Henry   0   \n5         0       3                                   Moran, Mr. James   0   \n6         0       1                            McCarthy, Mr. Timothy J   0   \n7         0       3                     Palsson, Master. Gosta Leonard   0   \n8         1       3  Johnson, Mrs. Oscar W (Elisabeth Vilhelmina Berg)   1   \n9         1       2                Nasser, Mrs. Nicholas (Adele Achem)   1   \n\n    Age  SibSp  Parch            Ticket     Fare Cabin Embarked  \n0  22.0      1      0         A/5 21171   7.2500     U        0  \n1  38.0      1      0          PC 17599  71.2833   C85        1  \n2  26.0      0      0  STON/O2. 3101282   7.9250     U        0  \n3  35.0      1      0            113803  53.1000  C123        0  \n4  35.0      0      0            373450   8.0500     U        0  \n5   NaN      0      0            330877   8.4583     U        2  \n6  54.0      0      0             17463  51.8625   E46        0  \n7   2.0      3      1            349909  21.0750     U        0  \n8  27.0      0      2            347742  11.1333     U        0  \n9  14.0      1      0            237736  30.0708     U        1  ",
      "text/html": "<div>\n<style scoped>\n    .dataframe tbody tr th:only-of-type {\n        vertical-align: middle;\n    }\n\n    .dataframe tbody tr th {\n        vertical-align: top;\n    }\n\n    .dataframe thead th {\n        text-align: right;\n    }\n</style>\n<table border=\"1\" class=\"dataframe\">\n  <thead>\n    <tr style=\"text-align: right;\">\n      <th></th>\n      <th>Survived</th>\n      <th>Pclass</th>\n      <th>Name</th>\n      <th>Sex</th>\n      <th>Age</th>\n      <th>SibSp</th>\n      <th>Parch</th>\n      <th>Ticket</th>\n      <th>Fare</th>\n      <th>Cabin</th>\n      <th>Embarked</th>\n    </tr>\n  </thead>\n  <tbody>\n    <tr>\n      <th>0</th>\n      <td>0</td>\n      <td>3</td>\n      <td>Braund, Mr. Owen Harris</td>\n      <td>0</td>\n      <td>22.0</td>\n      <td>1</td>\n      <td>0</td>\n      <td>A/5 21171</td>\n      <td>7.2500</td>\n      <td>U</td>\n      <td>0</td>\n    </tr>\n    <tr>\n      <th>1</th>\n      <td>1</td>\n      <td>1</td>\n      <td>Cumings, Mrs. John Bradley (Florence Briggs Th...</td>\n      <td>1</td>\n      <td>38.0</td>\n      <td>1</td>\n      <td>0</td>\n      <td>PC 17599</td>\n      <td>71.2833</td>\n      <td>C85</td>\n      <td>1</td>\n    </tr>\n    <tr>\n      <th>2</th>\n      <td>1</td>\n      <td>3</td>\n      <td>Heikkinen, Miss. Laina</td>\n      <td>1</td>\n      <td>26.0</td>\n      <td>0</td>\n      <td>0</td>\n      <td>STON/O2. 3101282</td>\n      <td>7.9250</td>\n      <td>U</td>\n      <td>0</td>\n    </tr>\n    <tr>\n      <th>3</th>\n      <td>1</td>\n      <td>1</td>\n      <td>Futrelle, Mrs. Jacques Heath (Lily May Peel)</td>\n      <td>1</td>\n      <td>35.0</td>\n      <td>1</td>\n      <td>0</td>\n      <td>113803</td>\n      <td>53.1000</td>\n      <td>C123</td>\n      <td>0</td>\n    </tr>\n    <tr>\n      <th>4</th>\n      <td>0</td>\n      <td>3</td>\n      <td>Allen, Mr. William Henry</td>\n      <td>0</td>\n      <td>35.0</td>\n      <td>0</td>\n      <td>0</td>\n      <td>373450</td>\n      <td>8.0500</td>\n      <td>U</td>\n      <td>0</td>\n    </tr>\n    <tr>\n      <th>5</th>\n      <td>0</td>\n      <td>3</td>\n      <td>Moran, Mr. James</td>\n      <td>0</td>\n      <td>NaN</td>\n      <td>0</td>\n      <td>0</td>\n      <td>330877</td>\n      <td>8.4583</td>\n      <td>U</td>\n      <td>2</td>\n    </tr>\n    <tr>\n      <th>6</th>\n      <td>0</td>\n      <td>1</td>\n      <td>McCarthy, Mr. Timothy J</td>\n      <td>0</td>\n      <td>54.0</td>\n      <td>0</td>\n      <td>0</td>\n      <td>17463</td>\n      <td>51.8625</td>\n      <td>E46</td>\n      <td>0</td>\n    </tr>\n    <tr>\n      <th>7</th>\n      <td>0</td>\n      <td>3</td>\n      <td>Palsson, Master. Gosta Leonard</td>\n      <td>0</td>\n      <td>2.0</td>\n      <td>3</td>\n      <td>1</td>\n      <td>349909</td>\n      <td>21.0750</td>\n      <td>U</td>\n      <td>0</td>\n    </tr>\n    <tr>\n      <th>8</th>\n      <td>1</td>\n      <td>3</td>\n      <td>Johnson, Mrs. Oscar W (Elisabeth Vilhelmina Berg)</td>\n      <td>1</td>\n      <td>27.0</td>\n      <td>0</td>\n      <td>2</td>\n      <td>347742</td>\n      <td>11.1333</td>\n      <td>U</td>\n      <td>0</td>\n    </tr>\n    <tr>\n      <th>9</th>\n      <td>1</td>\n      <td>2</td>\n      <td>Nasser, Mrs. Nicholas (Adele Achem)</td>\n      <td>1</td>\n      <td>14.0</td>\n      <td>1</td>\n      <td>0</td>\n      <td>237736</td>\n      <td>30.0708</td>\n      <td>U</td>\n      <td>1</td>\n    </tr>\n  </tbody>\n</table>\n</div>"
     },
     "execution_count": 8,
     "metadata": {},
     "output_type": "execute_result"
    }
   ],
   "source": [
    "#仓位号-舱位号缺失的乘客的幸存率远远低于有舱位号的乘客，把Cabin的缺失值划为单独的一类。\n",
    "train_after_drop[u'Cabin'] = train_after_drop[u'Cabin'].fillna('U')\n",
    "train_after_drop[:10]"
   ],
   "metadata": {
    "collapsed": false,
    "pycharm": {
     "name": "#%%\n"
    }
   }
  },
  {
   "cell_type": "code",
   "execution_count": 9,
   "outputs": [
    {
     "data": {
      "text/plain": "   Survived  Pclass                                               Name Sex  \\\n0         0       3                            Braund, Mr. Owen Harris   0   \n1         1       1  Cumings, Mrs. John Bradley (Florence Briggs Th...   1   \n2         1       3                             Heikkinen, Miss. Laina   1   \n3         1       1       Futrelle, Mrs. Jacques Heath (Lily May Peel)   1   \n4         0       3                           Allen, Mr. William Henry   0   \n\n    Age  SibSp  Parch            Ticket     Fare Cabin  Embarked  \n0  22.0      1      0         A/5 21171   7.2500     U         0  \n1  38.0      1      0          PC 17599  71.2833   C85         1  \n2  26.0      0      0  STON/O2. 3101282   7.9250     U         0  \n3  35.0      1      0            113803  53.1000  C123         0  \n4  35.0      0      0            373450   8.0500     U         0  ",
      "text/html": "<div>\n<style scoped>\n    .dataframe tbody tr th:only-of-type {\n        vertical-align: middle;\n    }\n\n    .dataframe tbody tr th {\n        vertical-align: top;\n    }\n\n    .dataframe thead th {\n        text-align: right;\n    }\n</style>\n<table border=\"1\" class=\"dataframe\">\n  <thead>\n    <tr style=\"text-align: right;\">\n      <th></th>\n      <th>Survived</th>\n      <th>Pclass</th>\n      <th>Name</th>\n      <th>Sex</th>\n      <th>Age</th>\n      <th>SibSp</th>\n      <th>Parch</th>\n      <th>Ticket</th>\n      <th>Fare</th>\n      <th>Cabin</th>\n      <th>Embarked</th>\n    </tr>\n  </thead>\n  <tbody>\n    <tr>\n      <th>0</th>\n      <td>0</td>\n      <td>3</td>\n      <td>Braund, Mr. Owen Harris</td>\n      <td>0</td>\n      <td>22.0</td>\n      <td>1</td>\n      <td>0</td>\n      <td>A/5 21171</td>\n      <td>7.2500</td>\n      <td>U</td>\n      <td>0</td>\n    </tr>\n    <tr>\n      <th>1</th>\n      <td>1</td>\n      <td>1</td>\n      <td>Cumings, Mrs. John Bradley (Florence Briggs Th...</td>\n      <td>1</td>\n      <td>38.0</td>\n      <td>1</td>\n      <td>0</td>\n      <td>PC 17599</td>\n      <td>71.2833</td>\n      <td>C85</td>\n      <td>1</td>\n    </tr>\n    <tr>\n      <th>2</th>\n      <td>1</td>\n      <td>3</td>\n      <td>Heikkinen, Miss. Laina</td>\n      <td>1</td>\n      <td>26.0</td>\n      <td>0</td>\n      <td>0</td>\n      <td>STON/O2. 3101282</td>\n      <td>7.9250</td>\n      <td>U</td>\n      <td>0</td>\n    </tr>\n    <tr>\n      <th>3</th>\n      <td>1</td>\n      <td>1</td>\n      <td>Futrelle, Mrs. Jacques Heath (Lily May Peel)</td>\n      <td>1</td>\n      <td>35.0</td>\n      <td>1</td>\n      <td>0</td>\n      <td>113803</td>\n      <td>53.1000</td>\n      <td>C123</td>\n      <td>0</td>\n    </tr>\n    <tr>\n      <th>4</th>\n      <td>0</td>\n      <td>3</td>\n      <td>Allen, Mr. William Henry</td>\n      <td>0</td>\n      <td>35.0</td>\n      <td>0</td>\n      <td>0</td>\n      <td>373450</td>\n      <td>8.0500</td>\n      <td>U</td>\n      <td>0</td>\n    </tr>\n  </tbody>\n</table>\n</div>"
     },
     "execution_count": 9,
     "metadata": {},
     "output_type": "execute_result"
    }
   ],
   "source": [
    "#Embarked(上船的港口编号)- 直接处理成最大(最大先验概率)\n",
    "most_embarked = train_after_drop[u\"Embarked\"].value_counts().index[0]\n",
    "train_after_drop[u\"Embarked\"]=train_after_drop[u\"Embarked\"].fillna(most_embarked)\n",
    "train_after_drop.head()"
   ],
   "metadata": {
    "collapsed": false,
    "pycharm": {
     "name": "#%%\n"
    }
   }
  },
  {
   "cell_type": "code",
   "execution_count": 13,
   "outputs": [
    {
     "name": "stdout",
     "output_type": "stream",
     "text": [
      "<class 'pandas.core.frame.DataFrame'>\n",
      "RangeIndex: 891 entries, 0 to 890\n",
      "Data columns (total 12 columns):\n",
      " #   Column    Non-Null Count  Dtype  \n",
      "---  ------    --------------  -----  \n",
      " 0   Survived  891 non-null    int64  \n",
      " 1   Pclass    891 non-null    int64  \n",
      " 2   Name      891 non-null    object \n",
      " 3   Sex       891 non-null    object \n",
      " 4   Age       891 non-null    float64\n",
      " 5   SibSp     891 non-null    int64  \n",
      " 6   Parch     891 non-null    int64  \n",
      " 7   Ticket    891 non-null    object \n",
      " 8   Fare      891 non-null    float64\n",
      " 9   Cabin     891 non-null    object \n",
      " 10  Embarked  891 non-null    int64  \n",
      " 11  Title     891 non-null    object \n",
      "dtypes: float64(2), int64(5), object(5)\n",
      "memory usage: 83.7+ KB\n"
     ]
    }
   ],
   "source": [
    "#Fare(票价) 只有一个空值\n",
    "train_after_drop[\"Fare\"] = train_after_drop[\"Fare\"].fillna(train_after_drop[\"Fare\"].median())\n",
    "train_after_drop.info()"
   ],
   "metadata": {
    "collapsed": false,
    "pycharm": {
     "name": "#%% ----四、数据清洗--\n"
    }
   }
  },
  {
   "cell_type": "code",
   "execution_count": null,
   "outputs": [],
   "source": [
    "# 数据清洗结束\n",
    "# -------五、 特征工程"
   ],
   "metadata": {
    "collapsed": false,
    "pycharm": {
     "name": "#%%\n"
    }
   }
  },
  {
   "cell_type": "code",
   "execution_count": 17,
   "outputs": [
    {
     "data": {
      "text/plain": "   Survived  Pclass                                               Name Sex  \\\n0         0       3                            Braund, Mr. Owen Harris   0   \n1         1       1  Cumings, Mrs. John Bradley (Florence Briggs Th...   1   \n2         1       3                             Heikkinen, Miss. Laina   1   \n3         1       1       Futrelle, Mrs. Jacques Heath (Lily May Peel)   1   \n4         0       3                           Allen, Mr. William Henry   0   \n\n    Age  SibSp  Parch            Ticket     Fare Cabin  Embarked Title  \\\n0  22.0      1      0         A/5 21171   7.2500     U         0     1   \n1  38.0      1      0          PC 17599  71.2833   C85         1     3   \n2  26.0      0      0  STON/O2. 3101282   7.9250     U         0     2   \n3  35.0      1      0            113803  53.1000  C123         0     3   \n4  35.0      0      0            373450   8.0500     U         0     1   \n\n   NameLength  FamilySize  \n0          23           1  \n1          51           1  \n2          22           0  \n3          44           1  \n4          24           0  ",
      "text/html": "<div>\n<style scoped>\n    .dataframe tbody tr th:only-of-type {\n        vertical-align: middle;\n    }\n\n    .dataframe tbody tr th {\n        vertical-align: top;\n    }\n\n    .dataframe thead th {\n        text-align: right;\n    }\n</style>\n<table border=\"1\" class=\"dataframe\">\n  <thead>\n    <tr style=\"text-align: right;\">\n      <th></th>\n      <th>Survived</th>\n      <th>Pclass</th>\n      <th>Name</th>\n      <th>Sex</th>\n      <th>Age</th>\n      <th>SibSp</th>\n      <th>Parch</th>\n      <th>Ticket</th>\n      <th>Fare</th>\n      <th>Cabin</th>\n      <th>Embarked</th>\n      <th>Title</th>\n      <th>NameLength</th>\n      <th>FamilySize</th>\n    </tr>\n  </thead>\n  <tbody>\n    <tr>\n      <th>0</th>\n      <td>0</td>\n      <td>3</td>\n      <td>Braund, Mr. Owen Harris</td>\n      <td>0</td>\n      <td>22.0</td>\n      <td>1</td>\n      <td>0</td>\n      <td>A/5 21171</td>\n      <td>7.2500</td>\n      <td>U</td>\n      <td>0</td>\n      <td>1</td>\n      <td>23</td>\n      <td>1</td>\n    </tr>\n    <tr>\n      <th>1</th>\n      <td>1</td>\n      <td>1</td>\n      <td>Cumings, Mrs. John Bradley (Florence Briggs Th...</td>\n      <td>1</td>\n      <td>38.0</td>\n      <td>1</td>\n      <td>0</td>\n      <td>PC 17599</td>\n      <td>71.2833</td>\n      <td>C85</td>\n      <td>1</td>\n      <td>3</td>\n      <td>51</td>\n      <td>1</td>\n    </tr>\n    <tr>\n      <th>2</th>\n      <td>1</td>\n      <td>3</td>\n      <td>Heikkinen, Miss. Laina</td>\n      <td>1</td>\n      <td>26.0</td>\n      <td>0</td>\n      <td>0</td>\n      <td>STON/O2. 3101282</td>\n      <td>7.9250</td>\n      <td>U</td>\n      <td>0</td>\n      <td>2</td>\n      <td>22</td>\n      <td>0</td>\n    </tr>\n    <tr>\n      <th>3</th>\n      <td>1</td>\n      <td>1</td>\n      <td>Futrelle, Mrs. Jacques Heath (Lily May Peel)</td>\n      <td>1</td>\n      <td>35.0</td>\n      <td>1</td>\n      <td>0</td>\n      <td>113803</td>\n      <td>53.1000</td>\n      <td>C123</td>\n      <td>0</td>\n      <td>3</td>\n      <td>44</td>\n      <td>1</td>\n    </tr>\n    <tr>\n      <th>4</th>\n      <td>0</td>\n      <td>3</td>\n      <td>Allen, Mr. William Henry</td>\n      <td>0</td>\n      <td>35.0</td>\n      <td>0</td>\n      <td>0</td>\n      <td>373450</td>\n      <td>8.0500</td>\n      <td>U</td>\n      <td>0</td>\n      <td>1</td>\n      <td>24</td>\n      <td>0</td>\n    </tr>\n  </tbody>\n</table>\n</div>"
     },
     "execution_count": 17,
     "metadata": {},
     "output_type": "execute_result"
    }
   ],
   "source": [
    "#合并SibSp+Parch=familySize 家庭人数\n",
    "#train_after_drop=train_after_drop.rename(columns={u'familySize':'FamilySize'})\n",
    "train_after_drop[\"FamilySize\"]=train_after_drop[\"SibSp\"]+train_after_drop[\"Parch\"]\n",
    "train_after_drop[\"NameLength\"]=train_after_drop[\"Name\"].apply(lambda x: len(x))\n",
    "train_after_drop.head()"
   ],
   "metadata": {
    "collapsed": false,
    "pycharm": {
     "name": "#%%\n"
    }
   }
  },
  {
   "cell_type": "code",
   "execution_count": 15,
   "outputs": [
    {
     "name": "stdout",
     "output_type": "stream",
     "text": [
      "1     517\n",
      "2     182\n",
      "3     125\n",
      "4      40\n",
      "5       7\n",
      "6       6\n",
      "8       2\n",
      "7       2\n",
      "9       2\n",
      "16      1\n",
      "10      1\n",
      "11      1\n",
      "12      1\n",
      "13      1\n",
      "14      1\n",
      "15      1\n",
      "17      1\n",
      "Name: Name, dtype: int64\n"
     ]
    }
   ],
   "source": [
    "#名字越长 Title：在Name里提取的，类似Mr、Mrs、Dr表示性别职业\n",
    "import re\n",
    "import pandas as pd\n",
    "def get_title(name):\n",
    "    title_search = re.search(' ([A-Za-z]+)\\.', name)\n",
    "\n",
    "    if title_search:\n",
    "        return title_search.group(1)\n",
    "    return ''\n",
    "titles = train_after_drop['Name'].apply(get_title)\n",
    "title_mapping = {\"Mr\": 1, \"Miss\": 2, \"Mrs\": 3, \"Master\": 4, \"Dr\": 5, \"Rev\": 6, \"Major\": 7, \"Col\": 8, \"Mlle\": 9,\n",
    "                 \"Mme\": 10, \"Don\": 11, \"Lady\": 12, \"Countess\": 13, \"Jonkheer\": 14, \"Sir\": 15, \"Capt\": 16, \"Ms\": 17\n",
    "                 }\n",
    "for k, v in title_mapping.items():\n",
    "    titles[titles == k] = v\n",
    "print(pd.value_counts(titles))\n",
    "train_after_drop['Title'] = titles\n"
   ],
   "metadata": {
    "collapsed": false,
    "pycharm": {
     "name": "#%%\n"
    }
   }
  },
  {
   "cell_type": "code",
   "execution_count": 18,
   "outputs": [
    {
     "data": {
      "text/plain": "<Figure size 432x288 with 1 Axes>",
      "image/png": "[encoded data removed]"
     },
     "metadata": {
      "needs_background": "light"
     },
     "output_type": "display_data"
    }
   ],
   "source": [
    "#-------5.1、特征选择\n",
    "\n",
    "predictors = [\"Pclass\", \"Sex\", \"Age\", \"SibSp\", \"Parch\", \"Fare\", \"Embarked\",\n",
    "\"FamilySize\", \"NameLength\", \"Title\"]\n",
    "selector = SelectKBest(f_classif, k=5)# 方差分析，计算方差分析（ANOVA）的F值 (组间均方 / 组内均方)，选取前5个特征\n",
    "\n",
    "selector.fit(train_after_drop[predictors], train['Survived'])\n",
    "scores = -np.log10(selector.pvalues_)\n",
    "plt.bar(range(len(predictors)), scores)\n",
    "plt.xticks(range(len(predictors)), predictors, rotation='vertical')\n",
    "plt.show()\n"
   ],
   "metadata": {
    "collapsed": false,
    "pycharm": {
     "name": "#%%\n"
    }
   }
  },
  {
   "cell_type": "code",
   "execution_count": 19,
   "outputs": [
    {
     "name": "stdout",
     "output_type": "stream",
     "text": [
      "0.7968574635241302\n"
     ]
    }
   ],
   "source": [
    "#---------六、选择模型------\n",
    "#6.1 线性模型\n",
    "from sklearn import metrics\n",
    "# 训练选择特征\n",
    "predictors = ['Pclass', 'Sex', 'Age', 'SibSp', 'Parch', 'Fare', 'Embarked']\n",
    "# 导入线性回归\n",
    "alg = LinearRegression()\n",
    "# k-交叉验证。将样本分为3份进行交叉验证\n",
    "#执行index  = kFold.split(X=X)：index是一个生成器，每个元素是一个元组，元组里面有两个元素，第一个是训练集的索引，第二个是验证集的索引\n",
    "kf = KFold(train_after_drop.shape[0], n_splits=3, random_state=1)\n",
    "predictions = []\n",
    "for train_index, test_index in kf.split(train_after_drop[predictions]):\n",
    "    # 用于训练的特征数据\n",
    "    train_predictors = train_after_drop[predictors].iloc[train_index, :]\n",
    "    # 特征数据的label(即是否获救)\n",
    "    train_target = train['Survived'].iloc[train_index]  # train_target = titanic['Survived'][train_index]\n",
    "    # 训练线性回归模型\n",
    "    alg.fit(train_predictors, train_target)\n",
    "    test_predictions = alg.predict(train_after_drop[predictors].iloc[test_index, :])\n",
    "    predictions.append(test_predictions)\n",
    "# 线性回归得到的结果是在[0,1]，转化为类别\n",
    "# 按轴axis连接array组成一个新的array\n",
    "predictions = np.concatenate(predictions, axis=0)# predictions = np.hstack(predictions)\n",
    "predictions[predictions > .5] = 1\n",
    "predictions[predictions <= .5] = 0\n",
    "# predictions = np.where(predictions > .5, 1, 0)\n",
    "# 线性模型准确率\n",
    "accuracy = sum(predictions == train_after_drop['Survived']) / len(predictions)\n",
    "print(accuracy)"
   ],
   "metadata": {
    "collapsed": false,
    "pycharm": {
     "name": "#%%\n"
    }
   }
  },
  {
   "cell_type": "code",
   "execution_count": 29,
   "outputs": [
    {
     "data": {
      "text/plain": "<matplotlib.axes._subplots.AxesSubplot at 0x7fb0a124f210>"
     },
     "execution_count": 29,
     "metadata": {},
     "output_type": "execute_result"
    },
    {
     "data": {
      "text/plain": "<Figure size 432x288 with 1 Axes>",
      "image/png": "[encoded data removed]"
     },
     "metadata": {
      "needs_background": "light"
     },
     "output_type": "display_data"
    }
   ],
   "source": [
    "len_train=891\n",
    "#特征对预测结果的相关度\n",
    "pd.crosstab(train_after_drop.Age[:len_train],train.Survived).plot.bar(stacked=True)"
   ],
   "metadata": {
    "collapsed": false,
    "pycharm": {
     "name": "#%%\n"
    }
   }
  }
 ],
 "metadata": {
  "kernelspec": {
   "display_name": "Python 3",
   "language": "python",
   "name": "python3"
  },
  "language_info": {
   "codemirror_mode": {
    "name": "ipython",
    "version": 2
   },
   "file_extension": ".py",
   "mimetype": "text/x-python",
   "name": "python",
   "nbconvert_exporter": "python",
   "pygments_lexer": "ipython2",
   "version": "2.7.6"
  }
 },
 "nbformat": 4,
 "nbformat_minor": 0
}